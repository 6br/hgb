{
 "cells": [
  {
   "cell_type": "code",
   "execution_count": 16,
   "metadata": {},
   "outputs": [
    {
     "data": {
      "text/plain": [
       "0"
      ]
     },
     "execution_count": 16,
     "metadata": {},
     "output_type": "execute_result"
    },
    {
     "name": "stderr",
     "output_type": "stream",
     "text": [
      "Retrieving: chr1:1-1001 (prefetch: chr1:1-100000)\n"
     ]
    },
    {
     "name": "stdout",
     "output_type": "stream",
     "text": [
      "REST Server is running on 0.0.0.0:4000\n"
     ]
    }
   ],
   "source": [
    "# Run hgb binary with REST api mode\n",
    "# NOTICE USE \"./target/release/hgb\" on production environment\n",
    "import os\n",
    "get_ipython().system = os.system\n",
    "! `pwd`/target/release/hgb vis g3.ghb -L hghead.bed -w 0.0.0.0:4000 -S -R chr1:1-100000 -Y 80 -r chr1:1-1001 -Q -W '->' &"
   ]
  },
  {
   "cell_type": "code",
   "execution_count": 25,
   "metadata": {
    "scrolled": true
   },
   "outputs": [
    {
     "data": {
      "image/png": "[encoded data removed]",
      "text/plain": [
       "<IPython.core.display.Image object>"
      ]
     },
     "metadata": {},
     "output_type": "display_data"
    }
   ],
   "source": [
    "import requests\n",
    "from IPython.display import Image, display\n",
    "import json\n",
    "\n",
    "url = \"http://localhost:4000\"\n",
    "payload = {\n",
    "    \"params\"   : \"-r chr1:94234-95334 -m 20 -U\",\n",
    "    \"format\"   : \"png\",\n",
    "    \"prefetch\" : True\n",
    "}\n",
    "headers = {\n",
    "    \"cache-control\" : \"no-cache\",\n",
    "    \"Content-Type\"  : \"application/json\"\n",
    "}\n",
    "r = requests.post(url, data=json.dumps(payload).encode(\"utf-8\"), headers=headers, params={}, stream=all)\n",
    "display(Image(r.content))"
   ]
  },
  {
   "cell_type": "code",
   "execution_count": 23,
   "metadata": {
    "scrolled": false
   },
   "outputs": [
    {
     "data": {
      "image/png": "[encoded data removed]",
      "text/plain": [
       "<IPython.core.display.Image object>"
      ]
     },
     "metadata": {},
     "output_type": "display_data"
    }
   ],
   "source": [
    "import requests\n",
    "from IPython.display import Image, display\n",
    "import json\n",
    "\n",
    "url = \"http://localhost:4000\"\n",
    "payload = {\n",
    "    \"params\"   : \"-a test/input1.bam test/input2.bam -f -s -p -I -P -U -r chr1:94234-95034\",\n",
    "    \"format\"   : \"png\",\n",
    "    \"prefetch\" : False\n",
    "}\n",
    "headers = {\n",
    "    \"cache-control\" : \"no-cache\",\n",
    "    \"Content-Type\"  : \"application/json\"\n",
    "}\n",
    "json_data = json.dumps(payload).encode(\"utf-8\")\n",
    "r = requests.post(url, data=json_data, headers=headers, stream=all)\n",
    "display(Image(r.content))"
   ]
  },
  {
   "cell_type": "code",
   "execution_count": 24,
   "metadata": {},
   "outputs": [
    {
     "data": {
      "image/png": "[encoded data removed]",
      "text/plain": [
       "<IPython.core.display.Image object>"
      ]
     },
     "metadata": {},
     "output_type": "display_data"
    }
   ],
   "source": [
    "import requests\n",
    "from IPython.display import Image, display\n",
    "import json\n",
    "\n",
    "url = \"http://0.0.0.0:4000/?format=png&params=-r%20chr1:94234-953340%20-m%204%20-U&prefetch=True\"\n",
    "payload = {\n",
    "    \"params\"   : \"-r chr1:94234-95334 -m 4 -U\",\n",
    "    \"format\"   : \"png\",\n",
    "    \"prefetch\" : True\n",
    "}\n",
    "headers = {\n",
    "    \"cache-control\" : \"no-cache\",\n",
    "    \"Content-Type\"  : \"application/json\"\n",
    "}\n",
    "r = requests.get(url, headers=headers, stream=all)\n",
    "display(Image(r.content))"
   ]
  },
  {
   "cell_type": "code",
   "execution_count": null,
   "metadata": {},
   "outputs": [],
   "source": []
  },
  {
   "cell_type": "code",
   "execution_count": null,
   "metadata": {},
   "outputs": [],
   "source": []
  }
 ],
 "metadata": {
  "kernelspec": {
   "display_name": "Python 3 (ipykernel)",
   "language": "python",
   "name": "python3"
  },
  "language_info": {
   "codemirror_mode": {
    "name": "ipython",
    "version": 3
   },
   "file_extension": ".py",
   "mimetype": "text/x-python",
   "name": "python",
   "nbconvert_exporter": "python",
   "pygments_lexer": "ipython3",
   "version": "3.10.5"
  }
 },
 "nbformat": 4,
 "nbformat_minor": 4
}
